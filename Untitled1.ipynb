{
 "cells": [
  {
   "cell_type": "markdown",
   "metadata": {},
   "source": [
    "# e1: Playfair "
   ]
  },
  {
   "cell_type": "code",
   "execution_count": 1,
   "metadata": {},
   "outputs": [],
   "source": [
    "import string\n",
    "def matrix(key):\n",
    "    matrix=[]\n",
    "    for e in key.lower():\n",
    "        if e not in matrix:\n",
    "            matrix.append(e)\n",
    "            alphabet=string.ascii_lowercase\n",
    "\n",
    "    for e in alphabet:\n",
    "        if e not in matrix:\n",
    "            matrix.append(e)\n",
    "\n",
    "    matrix_group=[]\n",
    "    for e in range(5):\n",
    "        matrix_group.append('')\n",
    "\n",
    "    #Break it into 5*5\n",
    "    matrix_group[0]=matrix[0:5]\n",
    "    matrix_group[1]=matrix[5:10]\n",
    "    matrix_group[2]=matrix[10:15]\n",
    "    matrix_group[3]=matrix[15:20]\n",
    "    matrix_group[4]=matrix[20:25]\n",
    "    \n",
    "    return matrix_group\n",
    "\n",
    "\n",
    "def find_position(key_matrix,letter):\n",
    "    x=y=0\n",
    "    for i in range(5):\n",
    "        for j in range(5):\n",
    "            if key_matrix[i][j]==letter:\n",
    "                x=i\n",
    "                y=j\n",
    "    return x,y\n",
    "\n",
    "\n",
    "def cipher_to_digraphs(cipher):\n",
    "    i=0\n",
    "    new=[]\n",
    "    for x in range(len(cipher)//2):\n",
    "        new.append(cipher[i:i+2])\n",
    "        i=i+2\n",
    "    return new\n",
    "\n",
    "\n",
    "def decrypt_playfair(cipher,key):\t\n",
    "    cipher=cipher_to_digraphs(cipher)\n",
    "    key_matrix=matrix(key)\n",
    "    plaintext=[]\n",
    "    for e in cipher:\n",
    "        p1,q1=find_position(key_matrix,e[0])\n",
    "        p2,q2=find_position(key_matrix,e[1])\n",
    "        if p1==p2:\n",
    "            plaintext.append(key_matrix[p1][q1-1])\n",
    "            plaintext.append(key_matrix[p1][q2-1])\n",
    "        elif q1==q2:\n",
    "            plaintext.append(key_matrix[p1-1][q1])\n",
    "            plaintext.append(key_matrix[p2-1][q2])\n",
    "        else:\n",
    "            plaintext.append(key_matrix[p1][q2])\n",
    "            plaintext.append(key_matrix[p2][q1])\n",
    "        \n",
    "    output=\"\"\n",
    "    for e in plaintext:\n",
    "        output+=e\n",
    "    return output.lower()\n",
    "\n"
   ]
  },
  {
   "cell_type": "markdown",
   "metadata": {},
   "source": [
    "# e2: Vignere Cipher"
   ]
  },
  {
   "cell_type": "code",
   "execution_count": 2,
   "metadata": {},
   "outputs": [],
   "source": [
    "def decrypt_vignere(ciphertext, key):\n",
    "    key_length = len(key)\n",
    "    key_as_int = [ord(i) for i in key]\n",
    "    ciphertext_int = [ord(i) for i in ciphertext]\n",
    "    plaintext = ''\n",
    "    for i in range(len(ciphertext_int)):\n",
    "        value = (ciphertext_int[i] - key_as_int[i % key_length]) % 26\n",
    "        \n",
    "        plaintext += chr(value + 97)\n",
    "    return plaintext"
   ]
  },
  {
   "cell_type": "markdown",
   "metadata": {},
   "source": [
    "# e3 & e4 : Caesar shift"
   ]
  },
  {
   "cell_type": "code",
   "execution_count": 3,
   "metadata": {},
   "outputs": [],
   "source": [
    "def decrypt_caesar(string, shift):\n",
    "    cipher = ''\n",
    "    for char in string: \n",
    "        if char == ' ':\n",
    "            cipher = cipher + char\n",
    "        elif char.isupper():\n",
    "            cipher = cipher + chr((ord(char) - shift - 65) % 26 + 65)\n",
    "        else:\n",
    "            cipher = cipher + chr((ord(char) - shift - 97) % 26 + 97)\n",
    "    return cipher"
   ]
  },
  {
   "cell_type": "markdown",
   "metadata": {},
   "source": [
    "# e5: Base64 with padding"
   ]
  },
  {
   "cell_type": "code",
   "execution_count": 4,
   "metadata": {},
   "outputs": [],
   "source": [
    "lst=[let for let in string.ascii_uppercase]\n",
    "lst.extend([let for let in string.ascii_lowercase])\n",
    "lst.extend([str(num) for num in range(0,10)])\n",
    "lst.extend(['+','/'])\n",
    "\n",
    "\n",
    "def convert(cipher_ltr):\n",
    "    global lst\n",
    "    return lst.index(cipher_ltr)\n",
    "\n",
    "def convert_bin6(num):\n",
    "    a=bin(num).replace(\"0b\",\"\")\n",
    "    z=a.zfill(6)\n",
    "    return z\n",
    "\n",
    "def form_grps(cipher):\n",
    "    grps=[]\n",
    "    for i in range(0,len(cipher)//4):\n",
    "        grps.append(cipher[4*i:4*i+4])\n",
    "    return grps\n",
    "\n",
    "def decrypt_grp(grp):\n",
    "    nums=[]\n",
    "    for ltr in grp:\n",
    "        if ltr=='=':\n",
    "            break\n",
    "        else:\n",
    "            nums.append(convert(ltr))\n",
    "    bin6=[convert_bin6(num) for num in nums] \n",
    "    str1=\"\".join(bin6)\n",
    "    asc=[]\n",
    "    for i in range(0,len(str1)//8):\n",
    "        asc.append(chr(int(\"\".join(str1[8*i:8*i+8]),2)))\n",
    "    grp_plaintext=\"\".join(asc) \n",
    "    return grp_plaintext\n",
    "\n",
    "def decrypt_base64(cipher):\n",
    "    grps=form_grps(cipher)\n",
    "    plaintext=\"\".join([decrypt_grp(grp) for grp in grps])\n",
    "    return plaintext"
   ]
  },
  {
   "cell_type": "markdown",
   "metadata": {},
   "source": [
    "# Decoding the given text"
   ]
  },
  {
   "cell_type": "code",
   "execution_count": 5,
   "metadata": {},
   "outputs": [],
   "source": [
    "def decode(cipher):\n",
    "    c4=decrypt_base64(cipher)\n",
    "    c3=decrypt_caesar(c4,13)\n",
    "    c2=decrypt_caesar(c3,20)                                    #key 20 obtained from hints\n",
    "    c1=decrypt_vignere(c2,'cryptography')                       #key obtained from hints\n",
    "    plaintext=decrypt_playfair(c1,'natdszgrqhebvpmxilfywcuko')  #key obtained from hints\n",
    "    return plaintext\n",
    "    "
   ]
  },
  {
   "cell_type": "code",
   "execution_count": 6,
   "metadata": {},
   "outputs": [
    {
     "name": "stdout",
     "output_type": "stream",
     "text": [
      "welcomepotentialwebclubrecruit\n"
     ]
    }
   ],
   "source": [
    "print(decode('d3ZucXN0b2tib2xlamp5ZW5zdnlicGpsa3VhcGx2'))"
   ]
  }
 ],
 "metadata": {
  "kernelspec": {
   "display_name": "Python 3",
   "language": "python",
   "name": "python3"
  },
  "language_info": {
   "codemirror_mode": {
    "name": "ipython",
    "version": 3
   },
   "file_extension": ".py",
   "mimetype": "text/x-python",
   "name": "python",
   "nbconvert_exporter": "python",
   "pygments_lexer": "ipython3",
   "version": "3.7.4"
  }
 },
 "nbformat": 4,
 "nbformat_minor": 2
}
